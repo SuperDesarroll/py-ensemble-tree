{
  "nbformat": 4,
  "nbformat_minor": 0,
  "metadata": {
    "colab": {
      "provenance": []
    },
    "kernelspec": {
      "name": "python3",
      "display_name": "Python 3"
    },
    "language_info": {
      "name": "python"
    }
  },
  "cells": [
    {
      "cell_type": "markdown",
      "source": [
        "# **Ensemble de árboles para clasificación de tumores de mama: Estudio del conjunto de datos de Wisconsin Diagnostic Breast Cancer**"
      ],
      "metadata": {
        "id": "v0moHuLCXfTG"
      }
    },
    {
      "cell_type": "markdown",
      "source": [
        "**Integrantes:**\n",
        "\n",
        "Ing. Dewins Murillo García"
      ],
      "metadata": {
        "id": "Sg0PTPL4YS5x"
      }
    },
    {
      "cell_type": "markdown",
      "source": [
        "**Introducción**\n",
        "\n",
        "\n",
        "¡Bienvenido a mi Google Colab! En esta presentación, vamos a adentrarnos en el emocionante campo de la clasificación de tumores de mama utilizando un enfoque basado en árboles. Para ello, utilizaremos el conjunto de datos ampliamente conocido \"Wisconsin Diagnostic Breast Cancer\" (WDBC).\n",
        "\n",
        "El cáncer de mama es una enfermedad de gran impacto que afecta a muchas mujeres en todo el mundo. Diagnosticar con precisión si un tumor es benigno o maligno es crucial para determinar el tratamiento adecuado. En este contexto, el aprendizaje automático puede desempeñar un papel clave. Mediante el análisis de características de tumores de mama, podemos entrenar un modelo basado en árboles para realizar predicciones precisas sobre la malignidad de un tumor."
      ],
      "metadata": {
        "id": "nzcpLE2mXBRi"
      }
    },
    {
      "cell_type": "markdown",
      "source": [
        "**Objetivos**\n",
        "\n",
        "Los objetivos de este proyecto utilizando árboles en el conjunto de datos \"Wisconsin Diagnostic Breast Cancer\" (WDBC) son los siguientes:\n",
        "\n",
        "1. Familiarizarse con el conjunto de datos WDBC y comprender su estructura y características.\n",
        "2. Preprocesar los datos de manera adecuada para su posterior uso en un modelo basado en árboles.\n",
        "3. Diseñar, entrenar y evaluar un modelo de clasificación basado en árboles utilizando técnicas como Random Forest o Gradient Boosting.\n",
        "4. Utilizar el modelo entrenado para realizar predicciones precisas sobre nuevos casos de tumores de mama y evaluar su rendimiento.\n",
        "5. Analizar la precisión y rendimiento del modelo y discutir posibles mejoras o ajustes para obtener resultados más óptimos.\n",
        "\n",
        "En este proyecto, nos centraremos en aprovechar las ventajas de los algoritmos basados en árboles para clasificar tumores de mama de manera efectiva, brindando información valiosa para el diagnóstico y tratamiento adecuado de esta enfermedad.\n",
        "\n",
        "\n"
      ],
      "metadata": {
        "id": "n8YQ_yDXXI3d"
      }
    },
    {
      "cell_type": "markdown",
      "source": [
        "## **Marco teórico**\n",
        "\n",
        "El cáncer de mama es una enfermedad maligna que se origina en las células del tejido mamario y representa una de las principales causas de muerte en mujeres a nivel mundial. El diagnóstico temprano y preciso del cáncer de mama es fundamental para un tratamiento efectivo y mejores resultados para los pacientes.\n",
        "\n",
        "En el campo del aprendizaje automático, la clasificación de tumores de mama utilizando árboles ha surgido como una herramienta prometedora en la detección y diagnóstico de esta enfermedad. Los árboles de decisión son modelos computacionales que utilizan reglas jerárquicas para realizar predicciones a partir de datos.\n",
        "\n",
        "En este contexto, el conjunto de datos \"Wisconsin Diagnostic Breast Cancer\" (WDBC) se ha convertido en un recurso ampliamente utilizado para la investigación en la clasificación de tumores de mama. Este conjunto de datos contiene mediciones de características obtenidas a partir de imágenes digitalizadas de aspiraciones con aguja fina (FNA) de tumores mamarios, incluyendo propiedades del núcleo celular como el tamaño, la forma y la textura.\n",
        "\n",
        "El preprocesamiento de los datos desempeña un papel crucial en el desarrollo de modelos de aprendizaje automático. En este caso, será necesario llevar a cabo tareas como la normalización de características, la codificación de etiquetas y la división del conjunto de datos en conjuntos de entrenamiento y prueba. Estas etapas aseguran que los datos estén adecuadamente preparados para el entrenamiento y la evaluación del modelo basado en árboles.\n",
        "\n",
        "Los ensembles de árboles, como Random Forest y Gradient Boosting, se utilizan ampliamente en la clasificación de tumores de mama debido a su capacidad para capturar relaciones no lineales y manejar características complejas. Estos enfoques combinan múltiples árboles de decisión para mejorar la precisión y generalización del modelo.\n",
        "\n",
        "Una vez entrenado el modelo de ensemble, se puede utilizar para realizar predicciones sobre nuevos casos de tumores de mama y estimar su malignidad. Estas predicciones son fundamentales para apoyar la toma de decisiones médicas en cuanto al tratamiento y cuidado de los pacientes.\n",
        "\n",
        "La evaluación del modelo de ensemble se realiza mediante métricas como la precisión, la sensibilidad y la especificidad, que permiten medir su capacidad para clasificar correctamente los tumores de mama. Además, se pueden explorar técnicas adicionales, como la optimización de hiperparámetros, para mejorar aún más el rendimiento del modelo basado en árboles en la clasificación de tumores de mama."
      ],
      "metadata": {
        "id": "P2PRgId-2m48"
      }
    },
    {
      "cell_type": "markdown",
      "source": [
        "## **Descripción del problema**\n",
        "\n",
        "El problema que se aborda en este proyecto es la clasificación precisa de tumores de mama como benignos o malignos. El cáncer de mama es una enfermedad grave que afecta a millones de mujeres en todo el mundo, y la capacidad de diagnosticar de manera precisa la malignidad de un tumor es crucial para determinar el tratamiento adecuado y mejorar los resultados para los pacientes.\n",
        "\n",
        "Actualmente, el diagnóstico de tumores de mama se basa en diversas técnicas, como biopsias y análisis de imágenes. Sin embargo, estas técnicas pueden presentar limitaciones en términos de subjetividad y dependencia de la experiencia del médico, lo que puede resultar en errores de clasificación.\n",
        "\n",
        "El aprendizaje automático, en particular el uso de árboles de decisión y ensembles, ofrece una oportunidad de mejorar la precisión en la clasificación de tumores de mama. Utilizando el conjunto de datos \"Wisconsin Diagnostic Breast Cancer\" (WDBC), que proporciona mediciones detalladas de características de tumores mamarios, es posible entrenar modelos basados en árboles para aprender patrones y realizar predicciones precisas sobre la malignidad de los tumores.\n",
        "\n",
        "La solución propuesta implica diseñar, entrenar y evaluar un modelo de clasificación basado en árboles, como Random Forest o Gradient Boosting, utilizando el conjunto de datos WDBC. El modelo aprenderá a reconocer patrones en las características de los tumores de mama y podrá realizar predicciones sobre la malignidad de nuevos casos.\n",
        "\n",
        "Al lograr una clasificación más precisa de los tumores de mama, se espera mejorar el proceso de diagnóstico y tratamiento. Los médicos podrán contar con una herramienta adicional para respaldar sus decisiones clínicas, lo que puede conducir a una detección temprana del cáncer de mama, una selección de tratamientos más efectivos y, en última instancia, una mejoría en la supervivencia y calidad de vida de los pacientes."
      ],
      "metadata": {
        "id": "xF7IDY9g3dfn"
      }
    },
    {
      "cell_type": "markdown",
      "source": [
        "## **Planteamiento de la solución**\n",
        "\n",
        "Para abordar el problema de la clasificación de tumores de mama utilizando árboles en lugar de redes neuronales, se propone el siguiente planteamiento de solución:\n",
        "\n",
        "1. **Familiarización con el conjunto de datos WDBC:**\n",
        "\n",
        "* Analizar la estructura del conjunto de datos WDBC, comprendiendo las características disponibles y las etiquetas de clasificación (benigno/maligno).\n",
        "* Realizar una exploración inicial de los datos para identificar posibles desequilibrios de clases, valores atípicos u otros desafíos que puedan afectar la calidad del modelo.\n",
        "\n",
        "2. **Preprocesamiento de los datos:**\n",
        "\n",
        "* Realizar un proceso de limpieza de datos, tratando valores faltantes y eliminando características irrelevantes o redundantes si es necesario.\n",
        "* Realizar la normalización o estandarización de las características para asegurar que todas tengan la misma escala y no afecten el rendimiento del modelo.\n",
        "\n",
        "3. **Diseño y entrenamiento de un modelo basado en árboles:**\n",
        "\n",
        "* Seleccionar un algoritmo de árbol adecuado, como Random Forest o Gradient Boosting, para la clasificación de tumores de mama.\n",
        "* Definir los hiperparámetros del modelo, como el número de árboles, la profundidad máxima y la tasa de aprendizaje.\n",
        "* Dividir el conjunto de datos en conjuntos de entrenamiento y prueba.\n",
        "* Entrenar el modelo utilizando el conjunto de entrenamiento y ajustar los hiperparámetros mediante técnicas como la validación cruzada.\n",
        "\n",
        "4. **Evaluación del modelo:**\n",
        "\n",
        "* Evaluar el rendimiento del modelo utilizando métricas de evaluación, como la precisión, la sensibilidad y la especificidad, en el conjunto de prueba.\n",
        "* Analizar la importancia de las características utilizadas por el modelo para la clasificación de tumores de mama.\n",
        "\n",
        "5. **Predicciones y aplicación:**\n",
        "\n",
        "* Utilizar el modelo entrenado para realizar predicciones sobre nuevos casos de tumores de mama y obtener una estimación de su malignidad.\n",
        "* Comparar las predicciones del modelo con diagnósticos clínicos y evaluar su concordancia.\n",
        "\n",
        "6. **Análisis y mejoras:**\n",
        "\n",
        "* Analizar los resultados obtenidos y discutir posibles mejoras en el modelo, como ajustar los hiperparámetros o utilizar técnicas de selección de características.\n",
        "* Considerar la interpretación de las características más relevantes para la clasificación de tumores de mama según el modelo basado en árboles.\n",
        "\n",
        "7. **Conclusiones:**\n",
        "\n",
        "* Resumir los resultados obtenidos y evaluar la efectividad del enfoque basado en árboles en la clasificación de tumores de mama.\n",
        "* Discutir las ventajas y limitaciones de este enfoque en comparación con los modelos basados en redes neuronales.\n",
        "* Mencionar posibles áreas de mejora o investigaciones futuras para mejorar la precisión y eficiencia de la clasificación de tumores de mama utilizando árboles."
      ],
      "metadata": {
        "id": "Q23sIIMx366q"
      }
    },
    {
      "cell_type": "markdown",
      "source": [
        "**ENTRADAS**:\n",
        "\n",
        "Dataset **\"Wisconsin Diagnostic Breast Cancer\" (WDBC)**. Este conjunto de datos se utiliza comúnmente en la comunidad de aprendizaje automático para la clasificación de tumores de mama como benignos o malignos.\n",
        "\n",
        "El dataset está alojado en la siguiente URL: \"https://archive.ics.uci.edu/ml/machine-learning-databases/breast-cancer-wisconsin/wdbc.data\". Se compone de 569 instancias de tumores de mama y 32 atributos.\n",
        "\n",
        "Descripción de las columnas del conjunto de datos:\n",
        "\n",
        "- ID: Identificador único para cada instancia.\n",
        "- diagnosis: Diagnóstico del tumor de mama. Puede ser \"M\" para maligno o \"B\" para benigno.\n",
        "- mean_radius: Radio medio de las células del tumor.\n",
        "- mean_texture: Textura media de las células del tumor.\n",
        "- mean_perimeter: Perímetro medio de las células del tumor.\n",
        "- mean_area: Área media de las células del tumor.\n",
        "- mean_smoothness: Suavidad media de las células del tumor.\n",
        "- mean_compactness: Compacidad media de las células del tumor.\n",
        "- mean_concavity: Concavidad media de las células del tumor.\n",
        "- mean_concave_points: Puntos cóncavos medios de las células del tumor.\n",
        "- mean_symmetry: Simetría media de las células del tumor.\n",
        "- mean_fractal_dimension: Dimensión fractal media de las células del tumor.\n",
        "- se_radius: Error estándar del radio de las células del tumor.\n",
        "- se_texture: Error estándar de la textura de las células del tumor.\n",
        "- se_perimeter: Error estándar del perímetro de las células del tumor.\n",
        "- se_area: Error estándar del área de las células del tumor.\n",
        "- se_smoothness: Error estándar de la suavidad de las células del tumor.\n",
        "- se_compactness: Error estándar de la compacidad de las células del tumor.\n",
        "- se_concavity: Error estándar de la concavidad de las células del tumor.\n",
        "- se_concave_points: Error estándar de los puntos cóncavos de las células del tumor.\n",
        "- se_symmetry: Error estándar de la simetría de las células del tumor.\n",
        "- se_fractal_dimension: Error estándar de la dimensión fractal de las células del tumor.\n",
        "- worst_radius: Peor valor del radio de las células del tumor.\n",
        "- worst_texture: Peor valor de la textura de las células del tumor.\n",
        "- worst_perimeter: Peor valor del perímetro de las células del tumor.\n",
        "- worst_area: Peor valor del área de las células del tumor.\n",
        "- worst_smoothness: Peor valor de la suavidad de las células del tumor.\n",
        "- worst_compactness: Peor valor de la compacidad de las células del tumor.\n",
        "- worst_concavity: Peor valor de la concavidad de las células del tumor.\n",
        "- worst_concave_points: Peor valor de los puntos cóncavos de las células del tumor.\n",
        "- worst_symmetry: Peor valor de la simetría de las células del tumor.\n",
        "- worst_fractal_dimension: Peor valor de la dimensión fractal de las células del tumor.\n",
        "\n",
        "El dataset ha sido cargado en un dataframe de pandas llamado 'df' utilizando los nombres de columna proporcionados. Cada fila del dataframe representa una instancia de tumor"
      ],
      "metadata": {
        "id": "IT0Gu78vWgN6"
      }
    },
    {
      "cell_type": "code",
      "source": [
        "import pandas as pd\n",
        "import seaborn as sb\n",
        "import matplotlib.pyplot as plt\n",
        "from sklearn.preprocessing import LabelEncoder\n",
        "from sklearn.model_selection import train_test_split\n",
        "\n",
        "from sklearn.ensemble import GradientBoostingClassifier, BaggingClassifier, AdaBoostClassifier\n",
        "from sklearn.model_selection import train_test_split\n",
        "from sklearn.metrics import accuracy_score\n",
        "\n",
        "from sklearn.metrics import accuracy_score, confusion_matrix\n",
        "\n",
        "from sklearn import tree\n",
        "import graphviz"
      ],
      "metadata": {
        "id": "CkX6iQPAUKsB"
      },
      "execution_count": 187,
      "outputs": []
    },
    {
      "cell_type": "code",
      "source": [
        "# Cargar el conjunto de datos\n",
        "url = \"https://archive.ics.uci.edu/ml/machine-learning-databases/breast-cancer-wisconsin/wdbc.data\"\n",
        "column_names = ['ID', 'diagnosis', 'mean_radius', 'mean_texture', 'mean_perimeter', 'mean_area', 'mean_smoothness',\n",
        "                'mean_compactness', 'mean_concavity', 'mean_concave_points', 'mean_symmetry', 'mean_fractal_dimension',\n",
        "                'se_radius', 'se_texture', 'se_perimeter', 'se_area', 'se_smoothness', 'se_compactness', 'se_concavity',\n",
        "                'se_concave_points', 'se_symmetry', 'se_fractal_dimension', 'worst_radius', 'worst_texture',\n",
        "                'worst_perimeter', 'worst_area', 'worst_smoothness', 'worst_compactness', 'worst_concavity',\n",
        "                'worst_concave_points', 'worst_symmetry', 'worst_fractal_dimension']\n",
        "df = pd.read_csv(url, header=None, names=column_names)"
      ],
      "metadata": {
        "id": "3QdbF8BcIwvV"
      },
      "execution_count": 175,
      "outputs": []
    },
    {
      "cell_type": "markdown",
      "source": [
        "**SALIDAS**:\n",
        "\n",
        "Al entrenar una Red Neuronal Multicapa (MLP) con TensorFlow para clasificar tumores de mama como benignos o malignos, la salida se representa mediante dos clases: \"benigno\" y \"maligno\".\n",
        "\n",
        "El modelo MLP, después de aprender a partir de los datos de entrenamiento, producirá una salida para cada instancia de tumor en forma de probabilidades de pertenencia a cada clase. En este caso, se espera que el modelo genere dos valores de salida: uno para la clase \"benigno\" y otro para la clase \"maligno\".\n",
        "\n",
        "La salida de la MLP según el objetivo y la configuración del modelo es de tipo:\n",
        "\n",
        "1. Clasificación binaria: Se puede utilizar una función de activación como la sigmoide en la capa de salida, que produce una probabilidad entre 0 y 1 para cada clase. La clase con la probabilidad más alta se considerará la predicción del modelo. Por ejemplo, si la probabilidad de la clase \"benigno\" es mayor que la probabilidad de la clase \"maligno\", el modelo clasificará el tumor como benigno.\n",
        "\n",
        "Al entrenar una MLP con TensorFlow para clasificar tumores de mama como benignos o malignos, la salida del modelo representará las probabilidades de pertenencia a cada clase y se puede interpretar como una clasificación binaria."
      ],
      "metadata": {
        "id": "ZkX3OPNDYwIj"
      }
    },
    {
      "cell_type": "code",
      "source": [
        "df['diagnosis'].value_counts()"
      ],
      "metadata": {
        "colab": {
          "base_uri": "https://localhost:8080/"
        },
        "id": "50lEK-0WJPDI",
        "outputId": "cd404d9b-7a73-4b15-818d-3771151beb00"
      },
      "execution_count": 176,
      "outputs": [
        {
          "output_type": "execute_result",
          "data": {
            "text/plain": [
              "B    357\n",
              "M    212\n",
              "Name: diagnosis, dtype: int64"
            ]
          },
          "metadata": {},
          "execution_count": 176
        }
      ]
    },
    {
      "cell_type": "markdown",
      "source": [
        "Generamos un **gráfico de barras** que muestra la distribución de las clases de diagnóstico en el conjunto de datos, lo que permite visualizar la cantidad de tumores benignos y malignos presentes en el conjunto de datos y comprender mejor la proporción de cada clase"
      ],
      "metadata": {
        "id": "CeHGcPN0bZVd"
      }
    },
    {
      "cell_type": "code",
      "source": [
        "# Obtener los valores y las frecuencias\n",
        "counts = df['diagnosis'].value_counts()\n",
        "labels = counts.index\n",
        "values = counts.values\n",
        "\n",
        "# Crear el gráfico de barras\n",
        "sb.barplot(x=labels, y=values)\n",
        "\n",
        "# Agregar etiquetas y título al gráfico\n",
        "plt.xlabel('diagnosis')\n",
        "plt.ylabel('Count')\n",
        "plt.title('Diagnosis Counts')\n",
        "\n",
        "# Mostrar el gráfico\n",
        "plt.show()"
      ],
      "metadata": {
        "colab": {
          "base_uri": "https://localhost:8080/",
          "height": 472
        },
        "id": "jYmV_SIjJTbS",
        "outputId": "324fdaa5-db8c-4d34-b686-f5bb80780217"
      },
      "execution_count": 177,
      "outputs": [
        {
          "output_type": "display_data",
          "data": {
            "text/plain": [
              "<Figure size 640x480 with 1 Axes>"
            ],
            "image/png": "[encoded data removed]"
          },
          "metadata": {}
        }
      ]
    },
    {
      "cell_type": "markdown",
      "source": [
        "La columna 'ID' no se utilizará como característica en el análisis o modelo posterior entonces eliminamos la columna 'ID' del DataFrame 'df' y crea una lista llamada 'features' que contiene los nombres de las columnas restantes del DataFrame, desde la columna 1 hasta la columna 30."
      ],
      "metadata": {
        "id": "Z1EZ6T55brt0"
      }
    },
    {
      "cell_type": "code",
      "source": [
        "# Dividir los datos en características (X) y etiquetas (y)\n",
        "X = df.drop(['ID', 'diagnosis'], axis=1)\n",
        "y = df['diagnosis']"
      ],
      "metadata": {
        "id": "DaZW15QBJYeg"
      },
      "execution_count": 178,
      "outputs": []
    },
    {
      "cell_type": "markdown",
      "source": [
        "Consulta una muestra de los **targets** o salidas (el diagnóstico):"
      ],
      "metadata": {
        "id": "dY0IvPXGb6Tb"
      }
    },
    {
      "cell_type": "markdown",
      "source": [],
      "metadata": {
        "id": "YGUBDsv6cuJF"
      }
    },
    {
      "cell_type": "markdown",
      "source": [
        "**LabelEncoder** aplica la transformación de las etiquetas de clase \"benigno\" y \"maligno\" a valores numéricos, como 0 y 1, respectivamente.\n",
        "\n"
      ],
      "metadata": {
        "id": "rkrGr704c0Rx"
      }
    },
    {
      "cell_type": "markdown",
      "source": [
        "Realizamos una **división del conjunto de datos** en conjuntos de entrenamiento y prueba. Los conjuntos de entrenamiento se utilizan para entrenar el modelo, mientras que los conjuntos de prueba lo utilizamos para evaluar el rendimiento del modelo en datos no vistos durante el entrenamiento."
      ],
      "metadata": {
        "id": "Xvs6aK8DevMC"
      }
    },
    {
      "cell_type": "code",
      "source": [
        "# Convertir etiquetas a valores numéricos\n",
        "label_encoder = LabelEncoder()\n",
        "y = label_encoder.fit_transform(y)"
      ],
      "metadata": {
        "id": "_ezU4UGKWxLz"
      },
      "execution_count": 179,
      "outputs": []
    },
    {
      "cell_type": "code",
      "source": [
        "# Dividir los datos en conjuntos de entrenamiento y prueba\n",
        "X_train, X_test, y_train, y_test = train_test_split(X, y, test_size=0.2, random_state=42)\n"
      ],
      "metadata": {
        "id": "-l-7wtbKJmki"
      },
      "execution_count": 180,
      "outputs": []
    },
    {
      "cell_type": "code",
      "execution_count": 181,
      "metadata": {
        "colab": {
          "base_uri": "https://localhost:8080/",
          "height": 75
        },
        "id": "uyfrMUQwIg7S",
        "outputId": "302eadef-aea7-403a-ad8a-2ff23e868b5a"
      },
      "outputs": [
        {
          "output_type": "execute_result",
          "data": {
            "text/plain": [
              "GradientBoostingClassifier()"
            ],
            "text/html": [
              "<style>#sk-container-id-10 {color: black;background-color: white;}#sk-container-id-10 pre{padding: 0;}#sk-container-id-10 div.sk-toggleable {background-color: white;}#sk-container-id-10 label.sk-toggleable__label {cursor: pointer;display: block;width: 100%;margin-bottom: 0;padding: 0.3em;box-sizing: border-box;text-align: center;}#sk-container-id-10 label.sk-toggleable__label-arrow:before {content: \"▸\";float: left;margin-right: 0.25em;color: #696969;}#sk-container-id-10 label.sk-toggleable__label-arrow:hover:before {color: black;}#sk-container-id-10 div.sk-estimator:hover label.sk-toggleable__label-arrow:before {color: black;}#sk-container-id-10 div.sk-toggleable__content {max-height: 0;max-width: 0;overflow: hidden;text-align: left;background-color: #f0f8ff;}#sk-container-id-10 div.sk-toggleable__content pre {margin: 0.2em;color: black;border-radius: 0.25em;background-color: #f0f8ff;}#sk-container-id-10 input.sk-toggleable__control:checked~div.sk-toggleable__content {max-height: 200px;max-width: 100%;overflow: auto;}#sk-container-id-10 input.sk-toggleable__control:checked~label.sk-toggleable__label-arrow:before {content: \"▾\";}#sk-container-id-10 div.sk-estimator input.sk-toggleable__control:checked~label.sk-toggleable__label {background-color: #d4ebff;}#sk-container-id-10 div.sk-label input.sk-toggleable__control:checked~label.sk-toggleable__label {background-color: #d4ebff;}#sk-container-id-10 input.sk-hidden--visually {border: 0;clip: rect(1px 1px 1px 1px);clip: rect(1px, 1px, 1px, 1px);height: 1px;margin: -1px;overflow: hidden;padding: 0;position: absolute;width: 1px;}#sk-container-id-10 div.sk-estimator {font-family: monospace;background-color: #f0f8ff;border: 1px dotted black;border-radius: 0.25em;box-sizing: border-box;margin-bottom: 0.5em;}#sk-container-id-10 div.sk-estimator:hover {background-color: #d4ebff;}#sk-container-id-10 div.sk-parallel-item::after {content: \"\";width: 100%;border-bottom: 1px solid gray;flex-grow: 1;}#sk-container-id-10 div.sk-label:hover label.sk-toggleable__label {background-color: #d4ebff;}#sk-container-id-10 div.sk-serial::before {content: \"\";position: absolute;border-left: 1px solid gray;box-sizing: border-box;top: 0;bottom: 0;left: 50%;z-index: 0;}#sk-container-id-10 div.sk-serial {display: flex;flex-direction: column;align-items: center;background-color: white;padding-right: 0.2em;padding-left: 0.2em;position: relative;}#sk-container-id-10 div.sk-item {position: relative;z-index: 1;}#sk-container-id-10 div.sk-parallel {display: flex;align-items: stretch;justify-content: center;background-color: white;position: relative;}#sk-container-id-10 div.sk-item::before, #sk-container-id-10 div.sk-parallel-item::before {content: \"\";position: absolute;border-left: 1px solid gray;box-sizing: border-box;top: 0;bottom: 0;left: 50%;z-index: -1;}#sk-container-id-10 div.sk-parallel-item {display: flex;flex-direction: column;z-index: 1;position: relative;background-color: white;}#sk-container-id-10 div.sk-parallel-item:first-child::after {align-self: flex-end;width: 50%;}#sk-container-id-10 div.sk-parallel-item:last-child::after {align-self: flex-start;width: 50%;}#sk-container-id-10 div.sk-parallel-item:only-child::after {width: 0;}#sk-container-id-10 div.sk-dashed-wrapped {border: 1px dashed gray;margin: 0 0.4em 0.5em 0.4em;box-sizing: border-box;padding-bottom: 0.4em;background-color: white;}#sk-container-id-10 div.sk-label label {font-family: monospace;font-weight: bold;display: inline-block;line-height: 1.2em;}#sk-container-id-10 div.sk-label-container {text-align: center;}#sk-container-id-10 div.sk-container {/* jupyter's `normalize.less` sets `[hidden] { display: none; }` but bootstrap.min.css set `[hidden] { display: none !important; }` so we also need the `!important` here to be able to override the default hidden behavior on the sphinx rendered scikit-learn.org. See: https://github.com/scikit-learn/scikit-learn/issues/21755 */display: inline-block !important;position: relative;}#sk-container-id-10 div.sk-text-repr-fallback {display: none;}</style><div id=\"sk-container-id-10\" class=\"sk-top-container\"><div class=\"sk-text-repr-fallback\"><pre>GradientBoostingClassifier()</pre><b>In a Jupyter environment, please rerun this cell to show the HTML representation or trust the notebook. <br />On GitHub, the HTML representation is unable to render, please try loading this page with nbviewer.org.</b></div><div class=\"sk-container\" hidden><div class=\"sk-item\"><div class=\"sk-estimator sk-toggleable\"><input class=\"sk-toggleable__control sk-hidden--visually\" id=\"sk-estimator-id-10\" type=\"checkbox\" checked><label for=\"sk-estimator-id-10\" class=\"sk-toggleable__label sk-toggleable__label-arrow\">GradientBoostingClassifier</label><div class=\"sk-toggleable__content\"><pre>GradientBoostingClassifier()</pre></div></div></div></div></div>"
            ]
          },
          "metadata": {},
          "execution_count": 181
        }
      ],
      "source": [
        "# Entrenar un modelo de Gradient Boosting\n",
        "boosting_model = GradientBoostingClassifier()\n",
        "boosting_model.fit(X_train, y_train)\n"
      ]
    },
    {
      "cell_type": "code",
      "source": [],
      "metadata": {
        "id": "cx60AyGBYIqO"
      },
      "execution_count": 181,
      "outputs": []
    },
    {
      "cell_type": "code",
      "source": [
        "# Entrenar un modelo de Bagging\n",
        "bagging_model = BaggingClassifier()\n",
        "bagging_model.fit(X_train, y_train)\n"
      ],
      "metadata": {
        "colab": {
          "base_uri": "https://localhost:8080/",
          "height": 75
        },
        "id": "Py-g3ah4YOAp",
        "outputId": "5a12fa4f-87d4-4c15-85c9-96e7d6788c77"
      },
      "execution_count": 182,
      "outputs": [
        {
          "output_type": "execute_result",
          "data": {
            "text/plain": [
              "BaggingClassifier()"
            ],
            "text/html": [
              "<style>#sk-container-id-11 {color: black;background-color: white;}#sk-container-id-11 pre{padding: 0;}#sk-container-id-11 div.sk-toggleable {background-color: white;}#sk-container-id-11 label.sk-toggleable__label {cursor: pointer;display: block;width: 100%;margin-bottom: 0;padding: 0.3em;box-sizing: border-box;text-align: center;}#sk-container-id-11 label.sk-toggleable__label-arrow:before {content: \"▸\";float: left;margin-right: 0.25em;color: #696969;}#sk-container-id-11 label.sk-toggleable__label-arrow:hover:before {color: black;}#sk-container-id-11 div.sk-estimator:hover label.sk-toggleable__label-arrow:before {color: black;}#sk-container-id-11 div.sk-toggleable__content {max-height: 0;max-width: 0;overflow: hidden;text-align: left;background-color: #f0f8ff;}#sk-container-id-11 div.sk-toggleable__content pre {margin: 0.2em;color: black;border-radius: 0.25em;background-color: #f0f8ff;}#sk-container-id-11 input.sk-toggleable__control:checked~div.sk-toggleable__content {max-height: 200px;max-width: 100%;overflow: auto;}#sk-container-id-11 input.sk-toggleable__control:checked~label.sk-toggleable__label-arrow:before {content: \"▾\";}#sk-container-id-11 div.sk-estimator input.sk-toggleable__control:checked~label.sk-toggleable__label {background-color: #d4ebff;}#sk-container-id-11 div.sk-label input.sk-toggleable__control:checked~label.sk-toggleable__label {background-color: #d4ebff;}#sk-container-id-11 input.sk-hidden--visually {border: 0;clip: rect(1px 1px 1px 1px);clip: rect(1px, 1px, 1px, 1px);height: 1px;margin: -1px;overflow: hidden;padding: 0;position: absolute;width: 1px;}#sk-container-id-11 div.sk-estimator {font-family: monospace;background-color: #f0f8ff;border: 1px dotted black;border-radius: 0.25em;box-sizing: border-box;margin-bottom: 0.5em;}#sk-container-id-11 div.sk-estimator:hover {background-color: #d4ebff;}#sk-container-id-11 div.sk-parallel-item::after {content: \"\";width: 100%;border-bottom: 1px solid gray;flex-grow: 1;}#sk-container-id-11 div.sk-label:hover label.sk-toggleable__label {background-color: #d4ebff;}#sk-container-id-11 div.sk-serial::before {content: \"\";position: absolute;border-left: 1px solid gray;box-sizing: border-box;top: 0;bottom: 0;left: 50%;z-index: 0;}#sk-container-id-11 div.sk-serial {display: flex;flex-direction: column;align-items: center;background-color: white;padding-right: 0.2em;padding-left: 0.2em;position: relative;}#sk-container-id-11 div.sk-item {position: relative;z-index: 1;}#sk-container-id-11 div.sk-parallel {display: flex;align-items: stretch;justify-content: center;background-color: white;position: relative;}#sk-container-id-11 div.sk-item::before, #sk-container-id-11 div.sk-parallel-item::before {content: \"\";position: absolute;border-left: 1px solid gray;box-sizing: border-box;top: 0;bottom: 0;left: 50%;z-index: -1;}#sk-container-id-11 div.sk-parallel-item {display: flex;flex-direction: column;z-index: 1;position: relative;background-color: white;}#sk-container-id-11 div.sk-parallel-item:first-child::after {align-self: flex-end;width: 50%;}#sk-container-id-11 div.sk-parallel-item:last-child::after {align-self: flex-start;width: 50%;}#sk-container-id-11 div.sk-parallel-item:only-child::after {width: 0;}#sk-container-id-11 div.sk-dashed-wrapped {border: 1px dashed gray;margin: 0 0.4em 0.5em 0.4em;box-sizing: border-box;padding-bottom: 0.4em;background-color: white;}#sk-container-id-11 div.sk-label label {font-family: monospace;font-weight: bold;display: inline-block;line-height: 1.2em;}#sk-container-id-11 div.sk-label-container {text-align: center;}#sk-container-id-11 div.sk-container {/* jupyter's `normalize.less` sets `[hidden] { display: none; }` but bootstrap.min.css set `[hidden] { display: none !important; }` so we also need the `!important` here to be able to override the default hidden behavior on the sphinx rendered scikit-learn.org. See: https://github.com/scikit-learn/scikit-learn/issues/21755 */display: inline-block !important;position: relative;}#sk-container-id-11 div.sk-text-repr-fallback {display: none;}</style><div id=\"sk-container-id-11\" class=\"sk-top-container\"><div class=\"sk-text-repr-fallback\"><pre>BaggingClassifier()</pre><b>In a Jupyter environment, please rerun this cell to show the HTML representation or trust the notebook. <br />On GitHub, the HTML representation is unable to render, please try loading this page with nbviewer.org.</b></div><div class=\"sk-container\" hidden><div class=\"sk-item\"><div class=\"sk-estimator sk-toggleable\"><input class=\"sk-toggleable__control sk-hidden--visually\" id=\"sk-estimator-id-11\" type=\"checkbox\" checked><label for=\"sk-estimator-id-11\" class=\"sk-toggleable__label sk-toggleable__label-arrow\">BaggingClassifier</label><div class=\"sk-toggleable__content\"><pre>BaggingClassifier()</pre></div></div></div></div></div>"
            ]
          },
          "metadata": {},
          "execution_count": 182
        }
      ]
    },
    {
      "cell_type": "code",
      "source": [
        "# Entrenar un modelo de AdaBoost\n",
        "adaboost_model = AdaBoostClassifier()\n",
        "adaboost_model.fit(X_train, y_train)"
      ],
      "metadata": {
        "colab": {
          "base_uri": "https://localhost:8080/",
          "height": 75
        },
        "id": "l4zMcW8DYRRh",
        "outputId": "866c4f6b-2ce9-4754-d7ff-5a03aee5c729"
      },
      "execution_count": 183,
      "outputs": [
        {
          "output_type": "execute_result",
          "data": {
            "text/plain": [
              "AdaBoostClassifier()"
            ],
            "text/html": [
              "<style>#sk-container-id-12 {color: black;background-color: white;}#sk-container-id-12 pre{padding: 0;}#sk-container-id-12 div.sk-toggleable {background-color: white;}#sk-container-id-12 label.sk-toggleable__label {cursor: pointer;display: block;width: 100%;margin-bottom: 0;padding: 0.3em;box-sizing: border-box;text-align: center;}#sk-container-id-12 label.sk-toggleable__label-arrow:before {content: \"▸\";float: left;margin-right: 0.25em;color: #696969;}#sk-container-id-12 label.sk-toggleable__label-arrow:hover:before {color: black;}#sk-container-id-12 div.sk-estimator:hover label.sk-toggleable__label-arrow:before {color: black;}#sk-container-id-12 div.sk-toggleable__content {max-height: 0;max-width: 0;overflow: hidden;text-align: left;background-color: #f0f8ff;}#sk-container-id-12 div.sk-toggleable__content pre {margin: 0.2em;color: black;border-radius: 0.25em;background-color: #f0f8ff;}#sk-container-id-12 input.sk-toggleable__control:checked~div.sk-toggleable__content {max-height: 200px;max-width: 100%;overflow: auto;}#sk-container-id-12 input.sk-toggleable__control:checked~label.sk-toggleable__label-arrow:before {content: \"▾\";}#sk-container-id-12 div.sk-estimator input.sk-toggleable__control:checked~label.sk-toggleable__label {background-color: #d4ebff;}#sk-container-id-12 div.sk-label input.sk-toggleable__control:checked~label.sk-toggleable__label {background-color: #d4ebff;}#sk-container-id-12 input.sk-hidden--visually {border: 0;clip: rect(1px 1px 1px 1px);clip: rect(1px, 1px, 1px, 1px);height: 1px;margin: -1px;overflow: hidden;padding: 0;position: absolute;width: 1px;}#sk-container-id-12 div.sk-estimator {font-family: monospace;background-color: #f0f8ff;border: 1px dotted black;border-radius: 0.25em;box-sizing: border-box;margin-bottom: 0.5em;}#sk-container-id-12 div.sk-estimator:hover {background-color: #d4ebff;}#sk-container-id-12 div.sk-parallel-item::after {content: \"\";width: 100%;border-bottom: 1px solid gray;flex-grow: 1;}#sk-container-id-12 div.sk-label:hover label.sk-toggleable__label {background-color: #d4ebff;}#sk-container-id-12 div.sk-serial::before {content: \"\";position: absolute;border-left: 1px solid gray;box-sizing: border-box;top: 0;bottom: 0;left: 50%;z-index: 0;}#sk-container-id-12 div.sk-serial {display: flex;flex-direction: column;align-items: center;background-color: white;padding-right: 0.2em;padding-left: 0.2em;position: relative;}#sk-container-id-12 div.sk-item {position: relative;z-index: 1;}#sk-container-id-12 div.sk-parallel {display: flex;align-items: stretch;justify-content: center;background-color: white;position: relative;}#sk-container-id-12 div.sk-item::before, #sk-container-id-12 div.sk-parallel-item::before {content: \"\";position: absolute;border-left: 1px solid gray;box-sizing: border-box;top: 0;bottom: 0;left: 50%;z-index: -1;}#sk-container-id-12 div.sk-parallel-item {display: flex;flex-direction: column;z-index: 1;position: relative;background-color: white;}#sk-container-id-12 div.sk-parallel-item:first-child::after {align-self: flex-end;width: 50%;}#sk-container-id-12 div.sk-parallel-item:last-child::after {align-self: flex-start;width: 50%;}#sk-container-id-12 div.sk-parallel-item:only-child::after {width: 0;}#sk-container-id-12 div.sk-dashed-wrapped {border: 1px dashed gray;margin: 0 0.4em 0.5em 0.4em;box-sizing: border-box;padding-bottom: 0.4em;background-color: white;}#sk-container-id-12 div.sk-label label {font-family: monospace;font-weight: bold;display: inline-block;line-height: 1.2em;}#sk-container-id-12 div.sk-label-container {text-align: center;}#sk-container-id-12 div.sk-container {/* jupyter's `normalize.less` sets `[hidden] { display: none; }` but bootstrap.min.css set `[hidden] { display: none !important; }` so we also need the `!important` here to be able to override the default hidden behavior on the sphinx rendered scikit-learn.org. See: https://github.com/scikit-learn/scikit-learn/issues/21755 */display: inline-block !important;position: relative;}#sk-container-id-12 div.sk-text-repr-fallback {display: none;}</style><div id=\"sk-container-id-12\" class=\"sk-top-container\"><div class=\"sk-text-repr-fallback\"><pre>AdaBoostClassifier()</pre><b>In a Jupyter environment, please rerun this cell to show the HTML representation or trust the notebook. <br />On GitHub, the HTML representation is unable to render, please try loading this page with nbviewer.org.</b></div><div class=\"sk-container\" hidden><div class=\"sk-item\"><div class=\"sk-estimator sk-toggleable\"><input class=\"sk-toggleable__control sk-hidden--visually\" id=\"sk-estimator-id-12\" type=\"checkbox\" checked><label for=\"sk-estimator-id-12\" class=\"sk-toggleable__label sk-toggleable__label-arrow\">AdaBoostClassifier</label><div class=\"sk-toggleable__content\"><pre>AdaBoostClassifier()</pre></div></div></div></div></div>"
            ]
          },
          "metadata": {},
          "execution_count": 183
        }
      ]
    },
    {
      "cell_type": "code",
      "source": [
        "# Entrenar un modelo de Gradient Boosting\n",
        "boosting_model = GradientBoostingClassifier()\n",
        "boosting_model.fit(X_train, y_train)\n",
        "boosting_predictions = boosting_model.predict(X_test)\n",
        "boosting_accuracy = accuracy_score(y_test, boosting_predictions)\n",
        "boosting_confusion = confusion_matrix(y_test, boosting_predictions)\n",
        "\n",
        "# Entrenar un modelo de Bagging\n",
        "bagging_model = BaggingClassifier()\n",
        "bagging_model.fit(X_train, y_train)\n",
        "bagging_predictions = bagging_model.predict(X_test)\n",
        "bagging_accuracy = accuracy_score(y_test, bagging_predictions)\n",
        "bagging_confusion = confusion_matrix(y_test, bagging_predictions)\n",
        "\n",
        "# Entrenar un modelo de AdaBoost\n",
        "adaboost_model = AdaBoostClassifier()\n",
        "adaboost_model.fit(X_train, y_train)\n",
        "adaboost_predictions = adaboost_model.predict(X_test)\n",
        "adaboost_accuracy = accuracy_score(y_test, adaboost_predictions)\n",
        "adaboost_confusion = confusion_matrix(y_test, adaboost_predictions)\n",
        "\n",
        "# Imprimir la precisión de los modelos\n",
        "print(\"Precisión del modelo de Gradient Boosting: \", boosting_accuracy)\n",
        "print(\"Matriz de confusión del modelo de Gradient Boosting:\\n\", boosting_confusion)\n",
        "\n",
        "print(\"\\nPrecisión del modelo de Bagging: \", bagging_accuracy)\n",
        "print(\"Matriz de confusión del modelo de Bagging:\\n\", bagging_confusion)\n",
        "\n",
        "print(\"\\nPrecisión del modelo de AdaBoost: \", adaboost_accuracy)\n",
        "print(\"Matriz de confusión del modelo de AdaBoost:\\n\", adaboost_confusion)"
      ],
      "metadata": {
        "colab": {
          "base_uri": "https://localhost:8080/"
        },
        "id": "lGP7URSIY2NQ",
        "outputId": "cc29b17c-c176-41ae-8a9a-9fce55169eea"
      },
      "execution_count": 184,
      "outputs": [
        {
          "output_type": "stream",
          "name": "stdout",
          "text": [
            "Precisión del modelo de Gradient Boosting:  0.956140350877193\n",
            "Matriz de confusión del modelo de Gradient Boosting:\n",
            " [[69  2]\n",
            " [ 3 40]]\n",
            "\n",
            "Precisión del modelo de Bagging:  0.9736842105263158\n",
            "Matriz de confusión del modelo de Bagging:\n",
            " [[71  0]\n",
            " [ 3 40]]\n",
            "\n",
            "Precisión del modelo de AdaBoost:  0.9736842105263158\n",
            "Matriz de confusión del modelo de AdaBoost:\n",
            " [[70  1]\n",
            " [ 2 41]]\n"
          ]
        }
      ]
    },
    {
      "cell_type": "code",
      "source": [
        "feature_importance = boosting_model.feature_importances_\n",
        "print(\"Importancia de características:\")\n",
        "for feature_name, importance in zip(X.columns, feature_importance):\n",
        "    print(f\"{feature_name}: {importance}\")"
      ],
      "metadata": {
        "colab": {
          "base_uri": "https://localhost:8080/"
        },
        "id": "r-7g3jvNZgFt",
        "outputId": "e4fc57ba-c1c3-4118-fe1f-f5829d88c42f"
      },
      "execution_count": 185,
      "outputs": [
        {
          "output_type": "stream",
          "name": "stdout",
          "text": [
            "Importancia de características:\n",
            "mean_radius: 0.0014860278878746074\n",
            "mean_texture: 0.027776277004165035\n",
            "mean_perimeter: 0.0003701896506267473\n",
            "mean_area: 0.00044870614679772355\n",
            "mean_smoothness: 0.0020256727717446656\n",
            "mean_compactness: 0.0020205511088638157\n",
            "mean_concavity: 0.0034755670089988595\n",
            "mean_concave_points: 0.4498801196800411\n",
            "mean_symmetry: 0.000524853961156967\n",
            "mean_fractal_dimension: 3.5622810976314015e-05\n",
            "se_radius: 0.006357152007073132\n",
            "se_texture: 0.004375314487141658\n",
            "se_perimeter: 0.00035577312928639006\n",
            "se_area: 0.00919380752569674\n",
            "se_smoothness: 0.000620746239035691\n",
            "se_compactness: 0.0016593484141866784\n",
            "se_concavity: 0.01646386202675914\n",
            "se_concave_points: 0.0019803637730187117\n",
            "se_symmetry: 0.00011106351537151961\n",
            "se_fractal_dimension: 0.00041595652597782205\n",
            "worst_radius: 0.0749595553483121\n",
            "worst_texture: 0.039965162574803155\n",
            "worst_perimeter: 0.0522197772279945\n",
            "worst_area: 0.03761883361997727\n",
            "worst_smoothness: 0.004804957057234841\n",
            "worst_compactness: 0.0016618826337162949\n",
            "worst_concavity: 0.017353650315756364\n",
            "worst_concave_points: 0.24012626576816426\n",
            "worst_symmetry: 0.001384363078362017\n",
            "worst_fractal_dimension: 0.00032857670088575034\n"
          ]
        }
      ]
    },
    {
      "cell_type": "markdown",
      "source": [
        "Estos resultados indican la importancia relativa de cada característica (atributo) en la clasificación realizada por el modelo. Cada número representa la contribución de una característica específica en la toma de decisiones del modelo.\n",
        "\n",
        "Observando los valores, podemos destacar lo siguiente:\n",
        "\n",
        "- La característica \"mean_concave_points\" tiene la mayor importancia con un valor de 0.4498801196800411. Esto sugiere que esta característica es muy relevante en la clasificación de tumores de mama, y su valor es un factor decisivo en la predicción del modelo.\n",
        "\n",
        "- Otras características que parecen tener cierta importancia son \"worst_concave_points\" (0.24012626576816426), \"worst_radius\" (0.0749595553483121), \"worst_perimeter\" (0.0522197772279945) y \"worst_texture\" (0.039965162574803155). Estas características también desempeñan un papel significativo en la clasificación de tumores.\n",
        "\n",
        "- Por otro lado, hay características con una importancia muy baja, como \"mean_fractal_dimension\" (3.5622810976314015e-05) y \"se_fractal_dimension\" (0.00041595652597782205). Estas características tienen un impacto mínimo en la clasificación realizada por el modelo.\n",
        "\n",
        "Estos valores de importancia de características pueden ser útiles para comprender qué atributos son más influyentes en la clasificación de tumores de mama. También pueden ayudar en la selección de características relevantes para mejorar el rendimiento del modelo o reducir la complejidad al trabajar con conjuntos de datos más grandes."
      ],
      "metadata": {
        "id": "cxocvx7tdEN8"
      }
    },
    {
      "cell_type": "code",
      "source": [
        "feature_importance = adaboost_model.feature_importances_\n",
        "print(\"Importancia de características:\")\n",
        "for feature_name, importance in zip(X.columns, feature_importance):\n",
        "    print(f\"{feature_name}: {importance}\")"
      ],
      "metadata": {
        "colab": {
          "base_uri": "https://localhost:8080/"
        },
        "id": "UYfmMnnwaY15",
        "outputId": "cb09ede7-9a4a-43de-b5d0-39a33d6802df"
      },
      "execution_count": 186,
      "outputs": [
        {
          "output_type": "stream",
          "name": "stdout",
          "text": [
            "Importancia de características:\n",
            "mean_radius: 0.0\n",
            "mean_texture: 0.06\n",
            "mean_perimeter: 0.0\n",
            "mean_area: 0.0\n",
            "mean_smoothness: 0.04\n",
            "mean_compactness: 0.04\n",
            "mean_concavity: 0.02\n",
            "mean_concave_points: 0.02\n",
            "mean_symmetry: 0.04\n",
            "mean_fractal_dimension: 0.02\n",
            "se_radius: 0.04\n",
            "se_texture: 0.0\n",
            "se_perimeter: 0.02\n",
            "se_area: 0.04\n",
            "se_smoothness: 0.02\n",
            "se_compactness: 0.06\n",
            "se_concavity: 0.0\n",
            "se_concave_points: 0.02\n",
            "se_symmetry: 0.02\n",
            "se_fractal_dimension: 0.04\n",
            "worst_radius: 0.0\n",
            "worst_texture: 0.08\n",
            "worst_perimeter: 0.04\n",
            "worst_area: 0.1\n",
            "worst_smoothness: 0.08\n",
            "worst_compactness: 0.0\n",
            "worst_concavity: 0.06\n",
            "worst_concave_points: 0.06\n",
            "worst_symmetry: 0.06\n",
            "worst_fractal_dimension: 0.02\n"
          ]
        }
      ]
    },
    {
      "cell_type": "markdown",
      "source": [
        "En estos resultados, se presenta la importancia relativa de cada característica en la clasificación realizada por el modelo. A continuación, se destacan algunas observaciones basadas en los valores proporcionados:\n",
        "\n",
        "- La característica \"mean_texture\" tiene una importancia relativamente alta con un valor de 0.06, lo que indica que esta característica tiene una influencia significativa en la clasificación de los tumores de mama realizada por el modelo.\n",
        "\n",
        "- Otras características que también parecen tener cierta importancia son \"mean_smoothness\" (0.04), \"mean_compactness\" (0.04), \"mean_concavity\" (0.02), \"mean_concave_points\" (0.02), \"mean_symmetry\" (0.04), \"mean_fractal_dimension\" (0.02), \"se_radius\" (0.04), \"se_perimeter\" (0.02), \"se_area\" (0.04), \"se_smoothness\" (0.02), \"se_compactness\" (0.06), \"se_concave_points\" (0.02), \"se_symmetry\" (0.02), \"se_fractal_dimension\" (0.04), \"worst_texture\" (0.08), \"worst_perimeter\" (0.04), \"worst_area\" (0.1), \"worst_smoothness\" (0.08), \"worst_concavity\" (0.06), \"worst_concave_points\" (0.06), \"worst_symmetry\" (0.06) y \"worst_fractal_dimension\" (0.02). Estas características también contribuyen de manera significativa a la clasificación realizada por el modelo.\n",
        "\n",
        "- Por otro lado, hay características que tienen una importancia relativamente baja o nula, como \"mean_radius\", \"mean_perimeter\", \"mean_area\", \"se_texture\", \"se_concavity\", \"worst_radius\" y \"worst_compactness\". Estas características parecen tener poco o ningún impacto en la clasificación realizada por el modelo.\n",
        "\n",
        "Estos valores de importancia de características pueden proporcionar información valiosa sobre qué atributos son más relevantes para la clasificación de tumores de mama. También pueden ayudar en la selección de características relevantes y en la interpretación de cómo el modelo toma decisiones basadas en esas características."
      ],
      "metadata": {
        "id": "jtqrwkFIdOzD"
      }
    },
    {
      "cell_type": "markdown",
      "source": [
        "**VERIFICACION BLACKBOX**\n",
        "\n",
        "Generamos un archivo PDF (o imagen) que contiene la representación gráfica del árbol de decisión. Además, se abrirá el visor predeterminado para mostrar el árbol en una ventana emergente."
      ],
      "metadata": {
        "id": "80irbGGcdl48"
      }
    },
    {
      "cell_type": "code",
      "source": [
        "# Entrenar un modelo de árbol de decisión\n",
        "tree_model = tree.ExtraTreeClassifier()\n",
        "tree_model.fit(X_train, y_train)\n",
        "\n",
        "# Generar la representación gráfica del árbol\n",
        "dot_data = tree.export_graphviz(tree_model, out_file=None,\n",
        "                                feature_names=X.columns,\n",
        "                                class_names=['benigno', 'maligno'],\n",
        "                                filled=True, rounded=True,\n",
        "                                special_characters=True)\n",
        "\n",
        "graph = graphviz.Source(dot_data)\n",
        "\n",
        "# Mostrar el árbol\n",
        "graph.render(\"arbol_decision\")  # Guardar el árbol como archivo PDF o imagen\n",
        "graph.view()  # Abrir el árbol en el visor predeterminado"
      ],
      "metadata": {
        "colab": {
          "base_uri": "https://localhost:8080/",
          "height": 35
        },
        "id": "LgiEFcV3a-BS",
        "outputId": "8c4ab406-2992-42ec-b415-d53d1e08e07a"
      },
      "execution_count": 189,
      "outputs": [
        {
          "output_type": "execute_result",
          "data": {
            "text/plain": [
              "'arbol_decision.pdf'"
            ],
            "application/vnd.google.colaboratory.intrinsic+json": {
              "type": "string"
            }
          },
          "metadata": {},
          "execution_count": 189
        }
      ]
    },
    {
      "cell_type": "markdown",
      "source": [
        "**MEJOR MODELO**\n",
        "\n",
        "Los resultados indican la precisión alcanzada por cada modelo y la matriz de confusión correspondiente. La precisión es una medida de la exactitud del modelo, es decir, la proporción de predicciones correctas sobre el total de predicciones realizadas.\n",
        "\n",
        "En el caso del modelo de Gradient Boosting, se obtuvo una precisión de 0.956140350877193, lo que indica que aproximadamente el 95.61% de las predicciones realizadas fueron correctas. La matriz de confusión muestra que hubo 69 casos verdaderos negativos, 2 falsos positivos, 3 falsos negativos y 40 casos verdaderos positivos.\n",
        "\n",
        "Para el modelo de Bagging, se alcanzó una precisión de 0.9736842105263158, lo que significa que aproximadamente el 97.37% de las predicciones fueron correctas. La matriz de confusión revela que hubo 71 casos verdaderos negativos, 0 falsos positivos, 3 falsos negativos y 40 casos verdaderos positivos.\n",
        "\n",
        "En cuanto al modelo de AdaBoost, también se obtuvo una precisión de 0.9736842105263158, lo que indica que aproximadamente el 97.37% de las predicciones fueron correctas. La matriz de confusión muestra 70 casos verdaderos negativos, 1 falso positivo, 2 falsos negativos y 41 casos verdaderos positivos.\n",
        "\n",
        "En general, los tres modelos tienen una alta precisión y muestran una capacidad para realizar predicciones correctas en la clasificación de tumores de mama. La matriz de confusión proporciona información adicional sobre los casos clasificados correctamente (verdaderos negativos y verdaderos positivos) y los casos clasificados incorrectamente (falsos positivos y falsos negativos)."
      ],
      "metadata": {
        "id": "I7yobNOyjX1U"
      }
    },
    {
      "cell_type": "markdown",
      "source": [
        "## **Resultados**\n",
        "\n",
        "Basándonos en los resultados proporcionados, podemos llegar a las siguientes conclusiones:\n",
        "\n",
        "1. Los modelos de Gradient Boosting, Bagging y AdaBoost lograron una precisión alta en la clasificación de tumores de mama, con valores de aproximadamente 0.95 y 0.97. Esto indica que estos modelos son capaces de realizar predicciones precisas sobre la malignidad de los tumores.\n",
        "\n",
        "2. Las matrices de confusión de los modelos también son alentadoras, ya que muestran un bajo número de falsos positivos y falsos negativos. En general, los modelos logran identificar correctamente la mayoría de los tumores benignos y malignos.\n",
        "\n",
        "3. Al analizar la importancia de las características, se observa que hay atributos que tienen un impacto significativo en la clasificación, como \"mean_concave_points\" y \"worst_concave_points\". Estas características son consideradas como las más influyentes en la toma de decisiones del modelo. Por otro lado, hay características con una importancia relativamente baja o nula, como \"mean_radius\" y \"worst_radius\".\n",
        "\n",
        "4. Estos resultados sugieren que las características relacionadas con la forma y textura de los tumores tienen una mayor relevancia en la clasificación, mientras que otras características, como el tamaño del tumor, pueden tener menos influencia en la toma de decisiones del modelo.\n",
        "\n",
        "En general, los modelos de Gradient Boosting, Bagging y AdaBoost han demostrado ser efectivos en la clasificación de tumores de mama, logrando altos niveles de precisión. La importancia de las características identificadas proporciona información valiosa sobre qué atributos son más relevantes para la clasificación y puede ayudar en futuras investigaciones y en la mejora de los modelos."
      ],
      "metadata": {
        "id": "0UceOaD2lDih"
      }
    },
    {
      "cell_type": "markdown",
      "source": [
        "## **Conclusiones**\n",
        "\n",
        "Basándonos en los resultados obtenidos, podemos concluir lo siguiente:\n",
        "\n",
        "1. Los modelos de Gradient Boosting, Bagging y AdaBoost son métodos efectivos para la clasificación de tumores de mama, logrando altos niveles de precisión en torno al 95% y 97%. Estos modelos demuestran su capacidad para realizar predicciones precisas sobre la malignidad de los tumores.\n",
        "\n",
        "2. Las matrices de confusión de los modelos indican un bajo número de falsos positivos y falsos negativos, lo que significa que los modelos tienen un buen desempeño en la identificación de tumores benignos y malignos. Esto es especialmente relevante en el campo de la salud, donde la precisión en el diagnóstico es crucial para determinar el tratamiento adecuado.\n",
        "\n",
        "3. Al analizar la importancia de las características, se observa que existen atributos clave que influyen en la clasificación de los tumores, como \"mean_concave_points\" y \"worst_concave_points\". Estas características relacionadas con la forma y textura de los tumores son consideradas las más influyentes en la toma de decisiones del modelo.\n",
        "\n",
        "4. Es importante destacar que los resultados de importancia de características pueden proporcionar información valiosa para futuras investigaciones y mejoras en el modelo. Esto puede conducir al desarrollo de modelos más precisos y una comprensión más profunda de las características más relevantes en la clasificación de tumores de mama.\n",
        "\n",
        "En resumen, los modelos de Gradient Boosting, Bagging y AdaBoost han demostrado ser efectivos en la clasificación de tumores de mama, brindando altos niveles de precisión. Además, el análisis de importancia de características proporciona información valiosa para comprender qué atributos son más relevantes en la clasificación de tumores. Estos resultados son prometedores para mejorar el diagnóstico y tratamiento del cáncer de mama, lo que puede conducir a una detección temprana y a una mejor calidad de vida para los pacientes."
      ],
      "metadata": {
        "id": "W2p8XVCb6EdI"
      }
    },
    {
      "cell_type": "markdown",
      "source": [
        "**Bibliografía**:\n",
        "\n",
        "\n",
        "* Géron, A. (2019). Hands-On Machine Learning with Scikit-Learn, Keras, and TensorFlow: Concepts, Tools, and Techniques to Build Intelligent Systems. Capítulo 7, páginas 191-201.\n",
        "\n",
        "* \"MÉTODO DE ENSAMBLE DE MODELOS (ENSEMBLE METHODS) | #27 Curso Machine Learning con Python AprendeIA con Ligdi Gonzalez\". Este video es parte de un curso de Machine Learning con Python impartido por Ligdi Gonzalez en el canal de YouTube \"AprendeIA\"\n",
        "\n",
        "* Documentación de Scikit-learn: https://scikit-learn.org/stable/modules/ensemble.html\n",
        "\n"
      ],
      "metadata": {
        "id": "9g4ULakbxijx"
      }
    }
  ]
}